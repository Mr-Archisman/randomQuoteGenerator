{
  "nbformat": 4,
  "nbformat_minor": 0,
  "metadata": {
    "colab": {
      "name": "Untitled1.ipynb",
      "provenance": [],
      "authorship_tag": "ABX9TyN/FUym3ymOH+bZQGkJTAbe",
      "include_colab_link": true
    },
    "kernelspec": {
      "name": "python3",
      "display_name": "Python 3"
    },
    "language_info": {
      "name": "python"
    }
  },
  "cells": [
    {
      "cell_type": "markdown",
      "metadata": {
        "id": "view-in-github",
        "colab_type": "text"
      },
      "source": [
        "<a href=\"https://colab.research.google.com/github/Mr-Archisman/randomQuoteGenerator/blob/main/Untitled1.ipynb\" target=\"_parent\"><img src=\"https://colab.research.google.com/assets/colab-badge.svg\" alt=\"Open In Colab\"/></a>"
      ]
    },
    {
      "cell_type": "code",
      "execution_count": 4,
      "metadata": {
        "colab": {
          "base_uri": "https://localhost:8080/"
        },
        "id": "oRZbzP6Vw7VQ",
        "outputId": "3eec74e2-4d1a-4fa4-e64c-18117eeaf3bd"
      },
      "outputs": [
        {
          "output_type": "stream",
          "name": "stdout",
          "text": [
            "Collecting pyspark\n",
            "  Downloading pyspark-3.2.1.tar.gz (281.4 MB)\n",
            "\u001b[K     |████████████████████████████████| 281.4 MB 28 kB/s \n",
            "\u001b[?25hCollecting py4j\n",
            "  Downloading py4j-0.10.9.3-py2.py3-none-any.whl (198 kB)\n",
            "\u001b[K     |████████████████████████████████| 198 kB 39.1 MB/s \n",
            "\u001b[?25hBuilding wheels for collected packages: pyspark\n",
            "  Building wheel for pyspark (setup.py) ... \u001b[?25l\u001b[?25hdone\n",
            "  Created wheel for pyspark: filename=pyspark-3.2.1-py2.py3-none-any.whl size=281853642 sha256=d9279f3bca65b4659f8b5c5cdc638393f0e1307b9140eeb6c20b5a422f4438f7\n",
            "  Stored in directory: /root/.cache/pip/wheels/9f/f5/07/7cd8017084dce4e93e84e92efd1e1d5334db05f2e83bcef74f\n",
            "Successfully built pyspark\n",
            "Installing collected packages: py4j, pyspark\n",
            "Successfully installed py4j-0.10.9.3 pyspark-3.2.1\n"
          ]
        }
      ],
      "source": [
        "!pip install pyspark py4j"
      ]
    },
    {
      "cell_type": "code",
      "source": [
        "from pyspark.sql import SparkSession\n",
        "spark = (SparkSession\n",
        " .builder\n",
        " .appName(\"<app_name>\")\n",
        " .getOrCreate())"
      ],
      "metadata": {
        "id": "DCZX3Kl_zPIg"
      },
      "execution_count": 5,
      "outputs": []
    },
    {
      "cell_type": "code",
      "source": [
        "spark"
      ],
      "metadata": {
        "id": "ntVFc7-szZiW"
      },
      "execution_count": null,
      "outputs": []
    },
    {
      "cell_type": "code",
      "source": [
        "from zipfile import ZipFile\n",
        "file_name = \"ipl_dataset_2.zip\"\n",
        "\n",
        "with ZipFile(file_name,'r' ) as zip:\n",
        "  zip.extractall()\n",
        "  print ('done')"
      ],
      "metadata": {
        "colab": {
          "base_uri": "https://localhost:8080/"
        },
        "id": "YVuyQoZc4N_-",
        "outputId": "3d2bb41d-65ad-45ee-a493-25ac13d8af41"
      },
      "execution_count": 7,
      "outputs": [
        {
          "output_type": "stream",
          "name": "stdout",
          "text": [
            "done\n"
          ]
        }
      ]
    },
    {
      "cell_type": "code",
      "source": [
        "df = spark.read.csv('ipl_ball_by_ball.csv',header=True)\n",
        "df1 = spark.read.csv('ipl_matches.csv',header=True)\n",
        "df2 = spark.read.csv('ipl_venue.csv',header=True)"
      ],
      "metadata": {
        "id": "K_ttPhOr5Max"
      },
      "execution_count": 8,
      "outputs": []
    },
    {
      "cell_type": "code",
      "source": [
        "df.createOrReplaceTempView(\"balls\")\n",
        "spark.sql(\n",
        "\"\"\"\n",
        "select * from balls\n",
        "\"\"\"\n",
        ")\n",
        "\n",
        "df1.createOrReplaceTempView(\"matches\")\n",
        "spark.sql(\n",
        "\"\"\"\n",
        "select * from matches\n",
        "\"\"\"\n",
        ")\n",
        "\n",
        "df2.createOrReplaceTempView(\"venue\")\n",
        "spark.sql(\n",
        "\"\"\"\n",
        "select * from venue\n",
        "\"\"\"\n",
        ")"
      ],
      "metadata": {
        "colab": {
          "base_uri": "https://localhost:8080/"
        },
        "id": "ZoAOQYLk50To",
        "outputId": "819d5e9b-6bcb-4ad8-84c0-400fed6ff1ac"
      },
      "execution_count": 9,
      "outputs": [
        {
          "output_type": "execute_result",
          "data": {
            "text/plain": [
              "DataFrame[venue_id: string, venue: string, city: string]"
            ]
          },
          "metadata": {},
          "execution_count": 9
        }
      ]
    },
    {
      "cell_type": "code",
      "source": [
        "df.show(vertical=True)"
      ],
      "metadata": {
        "id": "YV6xlfrM56VN"
      },
      "execution_count": null,
      "outputs": []
    },
    {
      "cell_type": "code",
      "source": [
        "df1.show(vertical=True)"
      ],
      "metadata": {
        "colab": {
          "base_uri": "https://localhost:8080/"
        },
        "id": "6-M0kmn_6SLT",
        "outputId": "590c4384-e3c4-45fe-d022-de21e22bfca9"
      },
      "execution_count": 32,
      "outputs": [
        {
          "output_type": "stream",
          "name": "stdout",
          "text": [
            "-RECORD 0-------------------------------\n",
            " match_id        | 335982               \n",
            " date            | 2008-04-18           \n",
            " player_of_match | BB McCullum          \n",
            " venue_id        | 35                   \n",
            " neutral_venue   | 0                    \n",
            " team1           | Royal Challengers... \n",
            " team2           | Kolkata Knight Ri... \n",
            " toss_winner     | Royal Challengers... \n",
            " toss_decision   | field                \n",
            " winner          | Kolkata Knight Ri... \n",
            " result          | runs                 \n",
            " result_margin   | 140                  \n",
            " eliminator      | N                    \n",
            " method          | NA                   \n",
            " umpire1         | Asad Rauf            \n",
            " umpire2         | RE Koertzen          \n",
            "-RECORD 1-------------------------------\n",
            " match_id        | 335983               \n",
            " date            | 2008-04-19           \n",
            " player_of_match | MEK Hussey           \n",
            " venue_id        | 31                   \n",
            " neutral_venue   | 0                    \n",
            " team1           | Kings XI Punjab      \n",
            " team2           | Chennai Super Kings  \n",
            " toss_winner     | Chennai Super Kings  \n",
            " toss_decision   | bat                  \n",
            " winner          | Chennai Super Kings  \n",
            " result          | runs                 \n",
            " result_margin   | 33                   \n",
            " eliminator      | N                    \n",
            " method          | NA                   \n",
            " umpire1         | MR Benson            \n",
            " umpire2         | SL Shastri           \n",
            "-RECORD 2-------------------------------\n",
            " match_id        | 335984               \n",
            " date            | 2008-04-19           \n",
            " player_of_match | MF Maharoof          \n",
            " venue_id        | 27                   \n",
            " neutral_venue   | 0                    \n",
            " team1           | Delhi Daredevils     \n",
            " team2           | Rajasthan Royals     \n",
            " toss_winner     | Rajasthan Royals     \n",
            " toss_decision   | bat                  \n",
            " winner          | Delhi Daredevils     \n",
            " result          | wickets              \n",
            " result_margin   | 9                    \n",
            " eliminator      | N                    \n",
            " method          | NA                   \n",
            " umpire1         | Aleem Dar            \n",
            " umpire2         | GA Pratapkumar       \n",
            "-RECORD 3-------------------------------\n",
            " match_id        | 335985               \n",
            " date            | 2008-04-20           \n",
            " player_of_match | MV Boucher           \n",
            " venue_id        | 14                   \n",
            " neutral_venue   | 0                    \n",
            " team1           | Mumbai Indians       \n",
            " team2           | Royal Challengers... \n",
            " toss_winner     | Mumbai Indians       \n",
            " toss_decision   | bat                  \n",
            " winner          | Royal Challengers... \n",
            " result          | wickets              \n",
            " result_margin   | 5                    \n",
            " eliminator      | N                    \n",
            " method          | NA                   \n",
            " umpire1         | SJ Davis             \n",
            " umpire2         | DJ Harper            \n",
            "-RECORD 4-------------------------------\n",
            " match_id        | 335986               \n",
            " date            | 2008-04-20           \n",
            " player_of_match | DJ Hussey            \n",
            " venue_id        | 15                   \n",
            " neutral_venue   | 0                    \n",
            " team1           | Kolkata Knight Ri... \n",
            " team2           | Deccan Chargers      \n",
            " toss_winner     | Deccan Chargers      \n",
            " toss_decision   | bat                  \n",
            " winner          | Kolkata Knight Ri... \n",
            " result          | wickets              \n",
            " result_margin   | 5                    \n",
            " eliminator      | N                    \n",
            " method          | NA                   \n",
            " umpire1         | BF Bowden            \n",
            " umpire2         | K Hariharan          \n",
            "-RECORD 5-------------------------------\n",
            " match_id        | 335987               \n",
            " date            | 2008-04-21           \n",
            " player_of_match | SR Watson            \n",
            " venue_id        | 20                   \n",
            " neutral_venue   | 0                    \n",
            " team1           | Rajasthan Royals     \n",
            " team2           | Kings XI Punjab      \n",
            " toss_winner     | Kings XI Punjab      \n",
            " toss_decision   | bat                  \n",
            " winner          | Rajasthan Royals     \n",
            " result          | wickets              \n",
            " result_margin   | 6                    \n",
            " eliminator      | N                    \n",
            " method          | NA                   \n",
            " umpire1         | Aleem Dar            \n",
            " umpire2         | RB Tiffin            \n",
            "-RECORD 6-------------------------------\n",
            " match_id        | 335988               \n",
            " date            | 2008-04-22           \n",
            " player_of_match | V Sehwag             \n",
            " venue_id        | 22                   \n",
            " neutral_venue   | 0                    \n",
            " team1           | Deccan Chargers      \n",
            " team2           | Delhi Daredevils     \n",
            " toss_winner     | Deccan Chargers      \n",
            " toss_decision   | bat                  \n",
            " winner          | Delhi Daredevils     \n",
            " result          | wickets              \n",
            " result_margin   | 9                    \n",
            " eliminator      | N                    \n",
            " method          | NA                   \n",
            " umpire1         | IL Howell            \n",
            " umpire2         | AM Saheba            \n",
            "-RECORD 7-------------------------------\n",
            " match_id        | 335989               \n",
            " date            | 2008-04-23           \n",
            " player_of_match | ML Hayden            \n",
            " venue_id        | 29                   \n",
            " neutral_venue   | 0                    \n",
            " team1           | Chennai Super Kings  \n",
            " team2           | Mumbai Indians       \n",
            " toss_winner     | Mumbai Indians       \n",
            " toss_decision   | field                \n",
            " winner          | Chennai Super Kings  \n",
            " result          | runs                 \n",
            " result_margin   | 6                    \n",
            " eliminator      | N                    \n",
            " method          | NA                   \n",
            " umpire1         | DJ Harper            \n",
            " umpire2         | GA Pratapkumar       \n",
            "-RECORD 8-------------------------------\n",
            " match_id        | 335990               \n",
            " date            | 2008-04-24           \n",
            " player_of_match | YK Pathan            \n",
            " venue_id        | 22                   \n",
            " neutral_venue   | 0                    \n",
            " team1           | Deccan Chargers      \n",
            " team2           | Rajasthan Royals     \n",
            " toss_winner     | Rajasthan Royals     \n",
            " toss_decision   | field                \n",
            " winner          | Rajasthan Royals     \n",
            " result          | wickets              \n",
            " result_margin   | 3                    \n",
            " eliminator      | N                    \n",
            " method          | NA                   \n",
            " umpire1         | Asad Rauf            \n",
            " umpire2         | MR Benson            \n",
            "-RECORD 9-------------------------------\n",
            " match_id        | 335991               \n",
            " date            | 2008-04-25           \n",
            " player_of_match | KC Sangakkara        \n",
            " venue_id        | 31                   \n",
            " neutral_venue   | 0                    \n",
            " team1           | Kings XI Punjab      \n",
            " team2           | Mumbai Indians       \n",
            " toss_winner     | Mumbai Indians       \n",
            " toss_decision   | field                \n",
            " winner          | Kings XI Punjab      \n",
            " result          | runs                 \n",
            " result_margin   | 66                   \n",
            " eliminator      | N                    \n",
            " method          | NA                   \n",
            " umpire1         | Aleem Dar            \n",
            " umpire2         | AM Saheba            \n",
            "-RECORD 10------------------------------\n",
            " match_id        | 335992               \n",
            " date            | 2008-04-26           \n",
            " player_of_match | SR Watson            \n",
            " venue_id        | 35                   \n",
            " neutral_venue   | 0                    \n",
            " team1           | Royal Challengers... \n",
            " team2           | Rajasthan Royals     \n",
            " toss_winner     | Rajasthan Royals     \n",
            " toss_decision   | field                \n",
            " winner          | Rajasthan Royals     \n",
            " result          | wickets              \n",
            " result_margin   | 7                    \n",
            " eliminator      | N                    \n",
            " method          | NA                   \n",
            " umpire1         | MR Benson            \n",
            " umpire2         | IL Howell            \n",
            "-RECORD 11------------------------------\n",
            " match_id        | 335993               \n",
            " date            | 2008-04-26           \n",
            " player_of_match | JDP Oram             \n",
            " venue_id        | 29                   \n",
            " neutral_venue   | 0                    \n",
            " team1           | Chennai Super Kings  \n",
            " team2           | Kolkata Knight Ri... \n",
            " toss_winner     | Kolkata Knight Ri... \n",
            " toss_decision   | bat                  \n",
            " winner          | Chennai Super Kings  \n",
            " result          | wickets              \n",
            " result_margin   | 9                    \n",
            " eliminator      | N                    \n",
            " method          | NA                   \n",
            " umpire1         | BF Bowden            \n",
            " umpire2         | AV Jayaprakash       \n",
            "-RECORD 12------------------------------\n",
            " match_id        | 335994               \n",
            " date            | 2008-04-27           \n",
            " player_of_match | AC Gilchrist         \n",
            " venue_id        | 13                   \n",
            " neutral_venue   | 0                    \n",
            " team1           | Mumbai Indians       \n",
            " team2           | Deccan Chargers      \n",
            " toss_winner     | Deccan Chargers      \n",
            " toss_decision   | field                \n",
            " winner          | Deccan Chargers      \n",
            " result          | wickets              \n",
            " result_margin   | 10                   \n",
            " eliminator      | N                    \n",
            " method          | NA                   \n",
            " umpire1         | Asad Rauf            \n",
            " umpire2         | SL Shastri           \n",
            "-RECORD 13------------------------------\n",
            " match_id        | 335995               \n",
            " date            | 2008-04-27           \n",
            " player_of_match | SM Katich            \n",
            " venue_id        | 31                   \n",
            " neutral_venue   | 0                    \n",
            " team1           | Kings XI Punjab      \n",
            " team2           | Delhi Daredevils     \n",
            " toss_winner     | Delhi Daredevils     \n",
            " toss_decision   | bat                  \n",
            " winner          | Kings XI Punjab      \n",
            " result          | wickets              \n",
            " result_margin   | 4                    \n",
            " eliminator      | N                    \n",
            " method          | NA                   \n",
            " umpire1         | RE Koertzen          \n",
            " umpire2         | I Shivram            \n",
            "-RECORD 14------------------------------\n",
            " match_id        | 335996               \n",
            " date            | 2008-04-28           \n",
            " player_of_match | MS Dhoni             \n",
            " venue_id        | 35                   \n",
            " neutral_venue   | 0                    \n",
            " team1           | Royal Challengers... \n",
            " team2           | Chennai Super Kings  \n",
            " toss_winner     | Chennai Super Kings  \n",
            " toss_decision   | bat                  \n",
            " winner          | Chennai Super Kings  \n",
            " result          | runs                 \n",
            " result_margin   | 13                   \n",
            " eliminator      | N                    \n",
            " method          | NA                   \n",
            " umpire1         | BR Doctrove          \n",
            " umpire2         | RB Tiffin            \n",
            "-RECORD 15------------------------------\n",
            " match_id        | 335997               \n",
            " date            | 2008-04-29           \n",
            " player_of_match | ST Jayasuriya        \n",
            " venue_id        | 15                   \n",
            " neutral_venue   | 0                    \n",
            " team1           | Kolkata Knight Ri... \n",
            " team2           | Mumbai Indians       \n",
            " toss_winner     | Kolkata Knight Ri... \n",
            " toss_decision   | bat                  \n",
            " winner          | Mumbai Indians       \n",
            " result          | wickets              \n",
            " result_margin   | 7                    \n",
            " eliminator      | N                    \n",
            " method          | NA                   \n",
            " umpire1         | BF Bowden            \n",
            " umpire2         | AV Jayaprakash       \n",
            "-RECORD 16------------------------------\n",
            " match_id        | 335998               \n",
            " date            | 2008-04-30           \n",
            " player_of_match | GD McGrath           \n",
            " venue_id        | 27                   \n",
            " neutral_venue   | 0                    \n",
            " team1           | Delhi Daredevils     \n",
            " team2           | Royal Challengers... \n",
            " toss_winner     | Royal Challengers... \n",
            " toss_decision   | field                \n",
            " winner          | Delhi Daredevils     \n",
            " result          | runs                 \n",
            " result_margin   | 10                   \n",
            " eliminator      | N                    \n",
            " method          | NA                   \n",
            " umpire1         | Aleem Dar            \n",
            " umpire2         | I Shivram            \n",
            "-RECORD 17------------------------------\n",
            " match_id        | 335999               \n",
            " date            | 2008-05-01           \n",
            " player_of_match | SE Marsh             \n",
            " venue_id        | 22                   \n",
            " neutral_venue   | 0                    \n",
            " team1           | Deccan Chargers      \n",
            " team2           | Kings XI Punjab      \n",
            " toss_winner     | Kings XI Punjab      \n",
            " toss_decision   | field                \n",
            " winner          | Kings XI Punjab      \n",
            " result          | wickets              \n",
            " result_margin   | 7                    \n",
            " eliminator      | N                    \n",
            " method          | NA                   \n",
            " umpire1         | BR Doctrove          \n",
            " umpire2         | RB Tiffin            \n",
            "-RECORD 18------------------------------\n",
            " match_id        | 336000               \n",
            " date            | 2008-05-01           \n",
            " player_of_match | SA Asnodkar          \n",
            " venue_id        | 20                   \n",
            " neutral_venue   | 0                    \n",
            " team1           | Rajasthan Royals     \n",
            " team2           | Kolkata Knight Ri... \n",
            " toss_winner     | Rajasthan Royals     \n",
            " toss_decision   | bat                  \n",
            " winner          | Rajasthan Royals     \n",
            " result          | runs                 \n",
            " result_margin   | 45                   \n",
            " eliminator      | N                    \n",
            " method          | NA                   \n",
            " umpire1         | RE Koertzen          \n",
            " umpire2         | GA Pratapkumar       \n",
            "-RECORD 19------------------------------\n",
            " match_id        | 336001               \n",
            " date            | 2008-05-02           \n",
            " player_of_match | V Sehwag             \n",
            " venue_id        | 29                   \n",
            " neutral_venue   | 0                    \n",
            " team1           | Chennai Super Kings  \n",
            " team2           | Delhi Daredevils     \n",
            " toss_winner     | Chennai Super Kings  \n",
            " toss_decision   | bat                  \n",
            " winner          | Delhi Daredevils     \n",
            " result          | wickets              \n",
            " result_margin   | 8                    \n",
            " eliminator      | N                    \n",
            " method          | NA                   \n",
            " umpire1         | BF Bowden            \n",
            " umpire2         | K Hariharan          \n",
            "only showing top 20 rows\n",
            "\n"
          ]
        }
      ]
    },
    {
      "cell_type": "code",
      "source": [
        "df2.show()"
      ],
      "metadata": {
        "colab": {
          "base_uri": "https://localhost:8080/"
        },
        "id": "im_r26xR6T7V",
        "outputId": "b7690d76-14c9-45c8-a77b-7bcce3fd527c"
      },
      "execution_count": 31,
      "outputs": [
        {
          "output_type": "stream",
          "name": "stdout",
          "text": [
            "+--------+--------------------+--------------+\n",
            "|venue_id|               venue|          city|\n",
            "+--------+--------------------+--------------+\n",
            "|       1|Dr. Y.S. Rajasekh...| Visakhapatnam|\n",
            "|       2|Sharjah Cricket S...|       Sharjah|\n",
            "|       3|JSCA Internationa...|        Ranchi|\n",
            "|       4|Saurashtra Cricke...|        Rajkot|\n",
            "|       5|Shaheed Veer Nara...|        Raipur|\n",
            "|       6|Maharashtra Crick...|          Pune|\n",
            "|       7|Subrata Roy Sahar...|          Pune|\n",
            "|       8|    St George's Park|Port Elizabeth|\n",
            "|       9|Vidarbha Cricket ...|        Nagpur|\n",
            "|      12|   Brabourne Stadium|        Mumbai|\n",
            "|      13|Dr DY Patil Sport...|        Mumbai|\n",
            "|      14|    Wankhede Stadium|        Mumbai|\n",
            "|      15|        Eden Gardens|       Kolkata|\n",
            "|      16|       Nehru Stadium|         Kochi|\n",
            "|      17|De Beers Diamond ...|     Kimberley|\n",
            "|      18|          Green Park|        Kanpur|\n",
            "|      19|New Wanderers Sta...|  Johannesburg|\n",
            "|      20|Sawai Mansingh St...|        Jaipur|\n",
            "|      21|Holkar Cricket St...|        Indore|\n",
            "|      22|Rajiv Gandhi Inte...|     Hyderabad|\n",
            "+--------+--------------------+--------------+\n",
            "only showing top 20 rows\n",
            "\n"
          ]
        }
      ]
    },
    {
      "cell_type": "code",
      "source": [
        "from pyspark.sql.types import IntegerType\n",
        "df = df.withColumn(\"is_wicket\", df[\"is_wicket\"].cast(IntegerType()))\n",
        "df = df.withColumn(\"batsman_runs\", df[\"batsman_runs\"].cast(IntegerType()))\n",
        "df = df.withColumn(\"extra_runs\", df[\"extra_runs\"].cast(IntegerType()))\n",
        "df = df.withColumn(\"total_runs\", df[\"total_runs\"].cast(IntegerType()))\n"
      ],
      "metadata": {
        "id": "vX5Sv8qO7C3K"
      },
      "execution_count": 14,
      "outputs": []
    },
    {
      "cell_type": "code",
      "source": [
        "df.summary().show(vertical=True)"
      ],
      "metadata": {
        "id": "sYc7odZv7HTZ"
      },
      "execution_count": null,
      "outputs": []
    },
    {
      "cell_type": "code",
      "source": [
        "from pyspark.sql.functions import isnan, when, count, col\n",
        "df.select([count(when(isnan(c) | col(c).isNull(), c)).alias(c) for c in df.columns]).show(vertical=True)"
      ],
      "metadata": {
        "colab": {
          "base_uri": "https://localhost:8080/"
        },
        "id": "tHMoUIqj7lp4",
        "outputId": "40540116-9227-4475-f4ba-744e548ebfed"
      },
      "execution_count": 16,
      "outputs": [
        {
          "output_type": "stream",
          "name": "stdout",
          "text": [
            "-RECORD 0---------------\n",
            " match_id         | 0   \n",
            " inning           | 0   \n",
            " overs            | 0   \n",
            " ball             | 0   \n",
            " batsman          | 0   \n",
            " non_striker      | 0   \n",
            " bowler           | 0   \n",
            " batsman_runs     | 0   \n",
            " extra_runs       | 0   \n",
            " total_runs       | 0   \n",
            " non_boundary     | 0   \n",
            " is_wicket        | 0   \n",
            " dismissal_kind   | 0   \n",
            " player_dismissed | 0   \n",
            " fielder          | 0   \n",
            " extras_type      | 0   \n",
            " batting_team     | 0   \n",
            " bowling_team     | 0   \n",
            "\n"
          ]
        }
      ]
    },
    {
      "cell_type": "code",
      "source": [
        "from pyspark.sql.functions import isnan, when, count, col\n",
        "df1.select([count(when(isnan(c) | col(c).isNull(), c)).alias(c) for c in df1.columns]).show(vertical=True)"
      ],
      "metadata": {
        "colab": {
          "base_uri": "https://localhost:8080/"
        },
        "id": "pLD-uj5i76yz",
        "outputId": "4b2972f2-93f0-4113-bca6-506b115e3a4a"
      },
      "execution_count": 17,
      "outputs": [
        {
          "output_type": "stream",
          "name": "stdout",
          "text": [
            "-RECORD 0--------------\n",
            " match_id        | 0   \n",
            " date            | 0   \n",
            " player_of_match | 0   \n",
            " venue_id        | 0   \n",
            " neutral_venue   | 0   \n",
            " team1           | 0   \n",
            " team2           | 0   \n",
            " toss_winner     | 0   \n",
            " toss_decision   | 0   \n",
            " winner          | 0   \n",
            " result          | 0   \n",
            " result_margin   | 0   \n",
            " eliminator      | 0   \n",
            " method          | 0   \n",
            " umpire1         | 0   \n",
            " umpire2         | 0   \n",
            "\n"
          ]
        }
      ]
    },
    {
      "cell_type": "markdown",
      "source": [
        "q1"
      ],
      "metadata": {
        "id": "5Y2rsBMZK8cp"
      }
    },
    {
      "cell_type": "code",
      "source": [
        "spark.sql(\n",
        "\"\"\"\n",
        "select c.venue,count(*) AS Number_of_Sixes from balls a \n",
        "inner join matches b on a.match_id=b.match_id\n",
        "inner join venue c on b.venue_id=c.venue_id\n",
        "where b.eliminator = 1\n",
        "group by c.venue\n",
        "order by Number_of_Sixes desc;\n",
        "\"\"\").show(5)"
      ],
      "metadata": {
        "colab": {
          "base_uri": "https://localhost:8080/"
        },
        "id": "KwA9bG-nNDTC",
        "outputId": "fe789d44-120f-4c96-b7ff-a71fa8e6805b"
      },
      "execution_count": 44,
      "outputs": [
        {
          "output_type": "stream",
          "name": "stdout",
          "text": [
            "+-----+---------------+\n",
            "|venue|Number_of_Sixes|\n",
            "+-----+---------------+\n",
            "+-----+---------------+\n",
            "\n"
          ]
        }
      ]
    },
    {
      "cell_type": "markdown",
      "source": [
        "q2"
      ],
      "metadata": {
        "id": "k02xmmxw-LP7"
      }
    },
    {
      "cell_type": "code",
      "source": [
        "caught=df.filter(df. dismissal_kind =='caught')\n",
        "caught.groupBy('fielder').count().sort('count',ascending=False).show(10)"
      ],
      "metadata": {
        "colab": {
          "base_uri": "https://localhost:8080/"
        },
        "id": "4MBmCTO379jU",
        "outputId": "1114e50d-9600-4527-8f81-7f7658d3021b"
      },
      "execution_count": 19,
      "outputs": [
        {
          "output_type": "stream",
          "name": "stdout",
          "text": [
            "+--------------+-----+\n",
            "|       fielder|count|\n",
            "+--------------+-----+\n",
            "|    KD Karthik|  118|\n",
            "|      MS Dhoni|  113|\n",
            "|AB de Villiers|  103|\n",
            "|      SK Raina|   99|\n",
            "|     RG Sharma|   88|\n",
            "|    RV Uthappa|   87|\n",
            "|    KA Pollard|   84|\n",
            "|       V Kohli|   76|\n",
            "|      S Dhawan|   73|\n",
            "|     MK Pandey|   70|\n",
            "+--------------+-----+\n",
            "only showing top 10 rows\n",
            "\n"
          ]
        }
      ]
    },
    {
      "cell_type": "markdown",
      "source": [
        "q3"
      ],
      "metadata": {
        "id": "n6VevfHR-RFd"
      }
    },
    {
      "cell_type": "code",
      "source": [
        "merged=df.join(df1,on='match_id')\n",
        "DL=merged[merged['method']=='D/L']\n",
        "sum1=DL.groupBy(['match_id','bowler']).sum('is_wicket')\n"
      ],
      "metadata": {
        "id": "d-MQ9zBm-SKj"
      },
      "execution_count": 21,
      "outputs": []
    },
    {
      "cell_type": "code",
      "source": [
        "from pyspark.sql.window import Window\n",
        "from pyspark.sql.functions import rank\n",
        "from pyspark.sql.functions import col\n",
        "\n",
        "\n",
        "window = Window.partitionBy('match_id').orderBy(col('sum(is_wicket)').desc())\n",
        "res_4=sum1.withColumn('rank',rank().over(window))\n",
        "res_4.filter(res_4.rank==1).show()"
      ],
      "metadata": {
        "colab": {
          "base_uri": "https://localhost:8080/"
        },
        "id": "edjbRDGA--aA",
        "outputId": "7699a54b-44ea-40ef-eff8-50744e2f2662"
      },
      "execution_count": 22,
      "outputs": [
        {
          "output_type": "stream",
          "name": "stdout",
          "text": [
            "+--------+----------------+--------------+----+\n",
            "|match_id|          bowler|sum(is_wicket)|rank|\n",
            "+--------+----------------+--------------+----+\n",
            "| 1082648| NM Coulter-Nile|             3|   1|\n",
            "| 1136566|        S Nadeem|             3|   1|\n",
            "| 1136578|          AJ Tye|             2|   1|\n",
            "| 1136578|Mujeeb Ur Rahman|             2|   1|\n",
            "| 1136578|         BB Sran|             2|   1|\n",
            "| 1136592|        TA Boult|             3|   1|\n",
            "| 1136592|      JD Unadkat|             3|   1|\n",
            "|  336022|        RR Powar|             2|   1|\n",
            "|  336022|        JR Hopes|             2|   1|\n",
            "|  336025|         M Ntini|             4|   1|\n",
            "|  392183|      DL Vettori|             5|   1|\n",
            "|  392186|      SC Ganguly|             2|   1|\n",
            "|  392214|        L Balaji|             1|   1|\n",
            "|  392214|       SB Jakati|             1|   1|\n",
            "|  392214|       PP Chawla|             1|   1|\n",
            "|  392214|       JA Morkel|             1|   1|\n",
            "|  392214|     S Sreesanth|             1|   1|\n",
            "|  392214|       IK Pathan|             1|   1|\n",
            "|  501215|        R Ashwin|             2|   1|\n",
            "|  501215|     NLTC Perera|             2|   1|\n",
            "+--------+----------------+--------------+----+\n",
            "only showing top 20 rows\n",
            "\n"
          ]
        }
      ]
    },
    {
      "cell_type": "markdown",
      "source": [
        "q4"
      ],
      "metadata": {
        "id": "PJEd9G2M_pvh"
      }
    },
    {
      "cell_type": "code",
      "source": [
        "legal=df[(~df['extras_type'].isin(['wides', 'noballs'])) & (df['overs'].between(6,19)) ]#filtering out wides and no balls, and taking  only powerplay overs(7-20) \n",
        "runs=legal.groupBy('batsman').sum('batsman_runs')#finding out total runs by each batsman\n",
        "ball=legal.groupby('batsman').count()#finding out total balls faced by each batsman\n",
        "balls=ball.withColumnRenamed(\"batsman\",\"batsman_1\")\n",
        "joined=balls.join(runs, balls.batsman_1 == runs.batsman, 'inner')#In pandas we could  just do strike_rate=runs*100/balls and we could get strike rate. We can't do same in pyspark , so first I will join the two result set and then find the strike rate\n",
        "result_4=joined.withColumn(\"Strike rate\", col(\"sum(batsman_runs)\")*100/col(\"count\")).sort('Strike rate',ascending=False)#Dividing the two columns and getting the strike rate the hard way.\n",
        "result_4.select('batsman','Strike rate').show(10)#Top 10 batsman with highest strike in powerplay"
      ],
      "metadata": {
        "colab": {
          "base_uri": "https://localhost:8080/"
        },
        "id": "bbY_h3Vt_qh2",
        "outputId": "6256d208-2cae-4f87-806a-beb2b53d05d6"
      },
      "execution_count": 24,
      "outputs": [
        {
          "output_type": "stream",
          "name": "stdout",
          "text": [
            "+------------+------------------+\n",
            "|     batsman|       Strike rate|\n",
            "+------------+------------------+\n",
            "|  B Stanlake|             250.0|\n",
            "|  ER Dwivedi|211.11111111111111|\n",
            "|Kamran Akmal| 208.1081081081081|\n",
            "|    Umar Gul|205.26315789473685|\n",
            "|    RS Sodhi|             200.0|\n",
            "|   LJ Wright|184.31372549019608|\n",
            "|  AD Russell| 182.1078431372549|\n",
            "|Vishnu Vinod|             180.0|\n",
            "|  I Malhotra|             175.0|\n",
            "|    V Sehwag|             175.0|\n",
            "+------------+------------------+\n",
            "only showing top 10 rows\n",
            "\n"
          ]
        }
      ]
    },
    {
      "cell_type": "markdown",
      "source": [
        "q5"
      ],
      "metadata": {
        "id": "rpyRzV9EC-zv"
      }
    },
    {
      "cell_type": "code",
      "source": [
        "spark.sql(\n",
        "\"\"\"\n",
        "select c.venue,count(*) AS Number_of_Extras from balls a \n",
        "inner join matches b on a.match_id=b.match_id\n",
        "inner join venue c on b.venue_id=c.venue_id\n",
        "where a.extra_runs = 1 or  a.extra_runs = 2 or a.extra_runs = 3 or  a.extra_runs = 4 or  a.extra_runs = 5 or  a.extra_runs = 6 or  a.extra_runs = 7 or  a.extra_runs = 8\n",
        "\n",
        "group by c.venue\n",
        "order by  Number_of_Extras  desc;\n",
        "\"\"\").show()"
      ],
      "metadata": {
        "colab": {
          "base_uri": "https://localhost:8080/"
        },
        "id": "iNfdl7ChDAI7",
        "outputId": "80f7c373-4b14-42fd-d2ab-cf522047ff89"
      },
      "execution_count": 30,
      "outputs": [
        {
          "output_type": "stream",
          "name": "stdout",
          "text": [
            "+--------------------+----------------+\n",
            "|               venue|Number_of_Extras|\n",
            "+--------------------+----------------+\n",
            "|M.Chinnaswamy Sta...|            1092|\n",
            "|    Wankhede Stadium|            1017|\n",
            "|        Eden Gardens|             915|\n",
            "|    Feroz Shah Kotla|             897|\n",
            "|Rajiv Gandhi Inte...|             740|\n",
            "|MA Chidambaram St...|             705|\n",
            "|Sawai Mansingh St...|             609|\n",
            "|Punjab Cricket As...|             441|\n",
            "|Dubai Internation...|             392|\n",
            "|Sheikh Zayed Stadium|             325|\n",
            "|Maharashtra Crick...|             276|\n",
            "|Dr DY Patil Sport...|             246|\n",
            "|Punjab Cricket As...|             227|\n",
            "|Sharjah Cricket S...|             222|\n",
            "|           Kingsmead|             205|\n",
            "|   Brabourne Stadium|             185|\n",
            "|Subrata Roy Sahar...|             180|\n",
            "|     SuperSport Park|             169|\n",
            "|Sardar Patel Stad...|             150|\n",
            "|Dr. Y.S. Rajasekh...|             135|\n",
            "+--------------------+----------------+\n",
            "only showing top 20 rows\n",
            "\n"
          ]
        }
      ]
    },
    {
      "cell_type": "markdown",
      "source": [
        "q6"
      ],
      "metadata": {
        "id": "77JF8ZCnFZ8C"
      }
    },
    {
      "cell_type": "code",
      "source": [
        "spark.sql(\n",
        "\"\"\"\n",
        "select player_of_match,count(player_of_match) from matches\n",
        "where neutral_venue = 1\n",
        "group by player_of_match\n",
        "order by count(player_of_match) desc \n",
        "\"\"\").show()"
      ],
      "metadata": {
        "colab": {
          "base_uri": "https://localhost:8080/"
        },
        "id": "GqsNJRKHFkpO",
        "outputId": "6ebd3193-f173-4f26-f19d-0e640837ec36"
      },
      "execution_count": 33,
      "outputs": [
        {
          "output_type": "stream",
          "name": "stdout",
          "text": [
            "+----------------+----------------------+\n",
            "| player_of_match|count(player_of_match)|\n",
            "+----------------+----------------------+\n",
            "|       JH Kallis|                     3|\n",
            "|       JP Duminy|                     3|\n",
            "|       YK Pathan|                     3|\n",
            "|      GJ Maxwell|                     3|\n",
            "|        DR Smith|                     2|\n",
            "|   KC Sangakkara|                     2|\n",
            "|       MK Pandey|                     2|\n",
            "|       RG Sharma|                     2|\n",
            "|  Sandeep Sharma|                     2|\n",
            "|DPMD Jayawardene|                     2|\n",
            "|  M Muralitharan|                     2|\n",
            "|     LRPL Taylor|                     2|\n",
            "|        SK Raina|                     2|\n",
            "|    Yuvraj Singh|                     2|\n",
            "|       ML Hayden|                     2|\n",
            "|    SR Tendulkar|                     2|\n",
            "|    AC Gilchrist|                     2|\n",
            "|  AB de Villiers|                     2|\n",
            "|      TM Dilshan|                     1|\n",
            "|           B Lee|                     1|\n",
            "+----------------+----------------------+\n",
            "only showing top 20 rows\n",
            "\n"
          ]
        }
      ]
    },
    {
      "cell_type": "markdown",
      "source": [
        "q7"
      ],
      "metadata": {
        "id": "4R-YYYkQH3v7"
      }
    },
    {
      "cell_type": "code",
      "source": [
        "player_dismissed=df.groupby('player_dismissed').count()#Counting number of times a player is dismissed\n",
        "total_runs=df.groupBy('batsman').sum('batsman_runs')\n",
        "joined_data=player_dismissed.join(total_runs, player_dismissed.player_dismissed == total_runs.batsman, 'inner')\n",
        "result_7=joined_data.withColumn(\"Batsmen Avg\", col(\"sum(batsman_runs)\")/col(\"count\")).sort('Batsmen Avg',ascending=False)#Dividing runs by number of times they have been dismissed\n",
        "result_7.select('batsman','Batsmen Avg').show(10) "
      ],
      "metadata": {
        "colab": {
          "base_uri": "https://localhost:8080/"
        },
        "id": "Abmyjs_qH42b",
        "outputId": "7842bcf2-bd5e-482d-a9c7-2f8348b11f85"
      },
      "execution_count": 34,
      "outputs": [
        {
          "output_type": "stream",
          "name": "stdout",
          "text": [
            "+-------------+------------------+\n",
            "|      batsman|       Batsmen Avg|\n",
            "+-------------+------------------+\n",
            "|   MN van Wyk|55.666666666666664|\n",
            "|   RD Gaikwad|              51.0|\n",
            "|     AC Voges|             45.25|\n",
            "|     KL Rahul| 44.86440677966102|\n",
            "|      HM Amla| 44.38461538461539|\n",
            "|Iqbal Abdulla|              44.0|\n",
            "|    DA Warner| 42.71544715447155|\n",
            "|  JM Bairstow|41.578947368421055|\n",
            "|     CH Gayle| 41.13793103448276|\n",
            "|     MS Dhoni|40.991150442477874|\n",
            "+-------------+------------------+\n",
            "only showing top 10 rows\n",
            "\n"
          ]
        }
      ]
    },
    {
      "cell_type": "markdown",
      "source": [
        "q8"
      ],
      "metadata": {
        "id": "IXXIkyY5Icq2"
      }
    },
    {
      "cell_type": "code",
      "source": [
        "spark.sql(\n",
        "\"\"\"\n",
        "select umpire, count(*)\n",
        "from ((select umpire1 as umpire from matches) union all\n",
        "      (select umpire2 from matches)\n",
        "     ) matches\n",
        "group by umpire\n",
        "order by count(*) desc ;\n",
        "\"\"\").show()\n",
        "#Combing two similar columns by union and counting numbers on times they have officiated"
      ],
      "metadata": {
        "colab": {
          "base_uri": "https://localhost:8080/"
        },
        "id": "TRyT6nigId5t",
        "outputId": "8ce8cfef-b4fe-4e14-89a8-caa22956ba9e"
      },
      "execution_count": 35,
      "outputs": [
        {
          "output_type": "stream",
          "name": "stdout",
          "text": [
            "+--------------------+--------+\n",
            "|              umpire|count(1)|\n",
            "+--------------------+--------+\n",
            "|              S Ravi|     121|\n",
            "|     HDPK Dharmasena|      94|\n",
            "|        AK Chaudhary|      87|\n",
            "|       C Shamshuddin|      82|\n",
            "|           M Erasmus|      65|\n",
            "|         Nitin Menon|      57|\n",
            "|           CK Nandan|      57|\n",
            "|          SJA Taufel|      55|\n",
            "|           Asad Rauf|      51|\n",
            "|         VA Kulkarni|      50|\n",
            "|        BNJ Oxenford|      48|\n",
            "|         CB Gaffaney|      47|\n",
            "|           RJ Tucker|      46|\n",
            "|         BR Doctrove|      42|\n",
            "|         RE Koertzen|      41|\n",
            "|           Aleem Dar|      38|\n",
            "|            NJ Llong|      37|\n",
            "|           BF Bowden|      37|\n",
            "|KN Ananthapadmana...|      33|\n",
            "|      RK Illingworth|      31|\n",
            "+--------------------+--------+\n",
            "only showing top 20 rows\n",
            "\n"
          ]
        }
      ]
    },
    {
      "cell_type": "markdown",
      "source": [
        "q9"
      ],
      "metadata": {
        "id": "Mmp-KmiuIyb5"
      }
    },
    {
      "cell_type": "code",
      "source": [
        "spark.sql(\n",
        "\"\"\"\n",
        "select m.match_id,first(v.venue),first(v.city),sum(b.batsman_runs) from balls as b\n",
        "inner join matches as m on b.match_id=m.match_id\n",
        "inner join venue as v on m.venue_id =v.venue_id\n",
        "where b.batsman= 'V Kohli'\n",
        "group by m.match_id\n",
        "order by sum(b.batsman_runs) desc limit 1; \n",
        "\"\"\").show()\n",
        "#First filtering in matches in which batsman is kohli,grouping by each match and finding total runs by each match and returning them in descending order and limit by 1"
      ],
      "metadata": {
        "colab": {
          "base_uri": "https://localhost:8080/"
        },
        "id": "w3wuY8KPI73E",
        "outputId": "6858157e-eadc-454c-a825-d3db0bb1d6c0"
      },
      "execution_count": 36,
      "outputs": [
        {
          "output_type": "stream",
          "name": "stdout",
          "text": [
            "+--------+--------------------+-----------+-----------------+\n",
            "|match_id|        first(venue)|first(city)|sum(batsman_runs)|\n",
            "+--------+--------------------+-----------+-----------------+\n",
            "|  980999|M.Chinnaswamy Sta...|  Bengaluru|            113.0|\n",
            "+--------+--------------------+-----------+-----------------+\n",
            "\n"
          ]
        }
      ]
    },
    {
      "cell_type": "markdown",
      "source": [
        "q10- We can clearly see that  Mumbai Indians ,Kolkata Knight Riders and Chennai Super Kings won the most number of tosses.Also these 3 teams collectivelty won 11 out of 14 tournaments (2021 included)   . Thus we can conclude that winning tosses does have significant advantages.       "
      ],
      "metadata": {
        "id": "gkfDFa-vJB18"
      }
    },
    {
      "cell_type": "code",
      "source": [
        "spark.sql(\n",
        "\"\"\"\n",
        "select toss_winner,count(toss_winner) from matches\n",
        "group by toss_winner\n",
        "order by count(toss_winner) desc \n",
        "\"\"\").show()"
      ],
      "metadata": {
        "colab": {
          "base_uri": "https://localhost:8080/"
        },
        "id": "CPNxEUcsJDXX",
        "outputId": "5827cc89-f0c2-440d-80e7-887e19d7f729"
      },
      "execution_count": 37,
      "outputs": [
        {
          "output_type": "stream",
          "name": "stdout",
          "text": [
            "+--------------------+------------------+\n",
            "|         toss_winner|count(toss_winner)|\n",
            "+--------------------+------------------+\n",
            "|      Mumbai Indians|               106|\n",
            "|Kolkata Knight Ri...|                98|\n",
            "| Chennai Super Kings|                97|\n",
            "|Royal Challengers...|                87|\n",
            "|    Rajasthan Royals|                87|\n",
            "|     Kings XI Punjab|                85|\n",
            "|    Delhi Daredevils|                80|\n",
            "| Sunrisers Hyderabad|                57|\n",
            "|     Deccan Chargers|                43|\n",
            "|      Delhi Capitals|                20|\n",
            "|       Pune Warriors|                20|\n",
            "|       Gujarat Lions|                15|\n",
            "|Kochi Tuskers Kerala|                 8|\n",
            "|Rising Pune Super...|                 7|\n",
            "|Rising Pune Super...|                 6|\n",
            "+--------------------+------------------+\n",
            "\n"
          ]
        }
      ]
    },
    {
      "cell_type": "markdown",
      "source": [
        ""
      ],
      "metadata": {
        "id": "TqLk7IT7JyDo"
      }
    }
  ]
}